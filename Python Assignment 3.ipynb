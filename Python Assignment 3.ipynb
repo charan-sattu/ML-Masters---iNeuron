{
 "cells": [
  {
   "cell_type": "code",
   "execution_count": 181,
   "metadata": {},
   "outputs": [
    {
     "name": "stdout",
     "output_type": "stream",
     "text": [
      "Result using custom reduce function: 10\n"
     ]
    }
   ],
   "source": [
    "'''1.1 Write a Python Program to implement your own myreduce() function which works exactly\n",
    "like Python's built-in function reduce()'''\n",
    "\n",
    "def custom_reduce(any_func,seq):\n",
    "    \n",
    "    result = seq[0]\n",
    "    for element in seq[1:]:\n",
    "        result = any_func(result,element)\n",
    "    \n",
    "    return result\n",
    "\n",
    "def add(x,y): return x+y\n",
    "\n",
    "print(\"Result using custom reduce function:\",custom_reduce(add,[1,2,3,4]))"
   ]
  },
  {
   "cell_type": "code",
   "execution_count": 182,
   "metadata": {},
   "outputs": [
    {
     "name": "stdout",
     "output_type": "stream",
     "text": [
      "Result using custom filter function: [1, 3, 7]\n"
     ]
    }
   ],
   "source": [
    "'''1.2 Write a Python program to implement your own myfilter() function which works exactly\n",
    "like Python's built-in function filter()'''\n",
    "\n",
    "def custom_filter(any_func,seq):\n",
    "    \n",
    "    result = []\n",
    "    for element in seq:\n",
    "        if any_func(element):\n",
    "            result.append(element)\n",
    "    \n",
    "    return result\n",
    "\n",
    "def positive_elements(x):\n",
    "    if x>0: return 1\n",
    "    else: return 0\n",
    "\n",
    "print(\"Result using custom filter function:\",custom_filter(positive_elements,[1,-2,3,-4,-5,-6,7]))"
   ]
  },
  {
   "cell_type": "code",
   "execution_count": 183,
   "metadata": {},
   "outputs": [
    {
     "data": {
      "text/plain": [
       "['x', 'xx', 'xxx', 'xxxx', 'y', 'yy', 'yyy', 'yyyy', 'z', 'zz', 'zzz', 'zzzz']"
      ]
     },
     "execution_count": 183,
     "metadata": {},
     "output_type": "execute_result"
    }
   ],
   "source": [
    "''' 2. List Comprehension - ['x', 'xx', 'xxx', 'xxxx', 'y', 'yy', 'yyy', 'yyyy', 'z', 'zz', 'zzz', 'zzzz']'''\n",
    "\n",
    "l = ['x','y','z']\n",
    "\n",
    "[l[i]*j for i in range(len(l1)) for j in range(1,5)]"
   ]
  },
  {
   "cell_type": "code",
   "execution_count": 184,
   "metadata": {},
   "outputs": [
    {
     "data": {
      "text/plain": [
       "['x', 'y', 'z', 'xx', 'yy', 'zz', 'xxx', 'yyy', 'zzz', 'xxxx', 'yyyy', 'zzzz']"
      ]
     },
     "execution_count": 184,
     "metadata": {},
     "output_type": "execute_result"
    }
   ],
   "source": [
    "''' 2. List Comprehension - ['x', 'y', 'z', 'xx', 'yy', 'zz', 'xxx', 'yyy', 'zzz', 'xxxx', 'yyyy', 'zzzz']'''\n",
    "\n",
    "#same l used in cell #152\n",
    "\n",
    "[l[i]*j for j in range(1,5) for i in range(len(l1))]"
   ]
  },
  {
   "cell_type": "code",
   "execution_count": 185,
   "metadata": {},
   "outputs": [
    {
     "data": {
      "text/plain": [
       "[[2], [3], [4], [3], [4], [5], [4], [5], [6]]"
      ]
     },
     "execution_count": 185,
     "metadata": {},
     "output_type": "execute_result"
    }
   ],
   "source": [
    "''' 2. List Comprehension - [[2], [3], [4], [3], [4], [5], [4], [5], [6]]'''\n",
    "\n",
    "n = [2,3,4,5]\n",
    "\n",
    "[[n[i]+j] for i in range(len(n)-1) for j in range(3)]"
   ]
  },
  {
   "cell_type": "code",
   "execution_count": 186,
   "metadata": {},
   "outputs": [
    {
     "data": {
      "text/plain": [
       "[[2, 3, 4, 5], [3, 4, 5, 6], [4, 5, 6, 7], [5, 6, 7, 8]]"
      ]
     },
     "execution_count": 186,
     "metadata": {},
     "output_type": "execute_result"
    }
   ],
   "source": [
    "''' 2. List Comprehension - [[2, 3, 4, 5], [3, 4, 5, 6],[4, 5, 6, 7], [5, 6, 7, 8]]'''\n",
    "\n",
    "#same n used in cell #154\n",
    "\n",
    "[[i+j for i in n] for j in range(4)]"
   ]
  },
  {
   "cell_type": "code",
   "execution_count": 187,
   "metadata": {},
   "outputs": [
    {
     "data": {
      "text/plain": [
       "[(1, 1), (2, 1), (3, 1), (1, 2), (2, 2), (3, 2), (1, 3), (2, 3), (3, 3)]"
      ]
     },
     "execution_count": 187,
     "metadata": {},
     "output_type": "execute_result"
    }
   ],
   "source": [
    "''' 2. List Comprehension -  [(1, 1), (2, 1), (3, 1), (1, 2), (2, 2), (3, 2), (1, 3), (2, 3), (3, 3)]'''\n",
    "\n",
    "m = [1,2,3]\n",
    "\n",
    "[(m[i],m[j]) for j in range(len(m)) for i in range(3)]"
   ]
  }
 ],
 "metadata": {
  "kernelspec": {
   "display_name": "Python 3",
   "language": "python",
   "name": "python3"
  },
  "language_info": {
   "codemirror_mode": {
    "name": "ipython",
    "version": 3
   },
   "file_extension": ".py",
   "mimetype": "text/x-python",
   "name": "python",
   "nbconvert_exporter": "python",
   "pygments_lexer": "ipython3",
   "version": "3.7.6"
  }
 },
 "nbformat": 4,
 "nbformat_minor": 4
}

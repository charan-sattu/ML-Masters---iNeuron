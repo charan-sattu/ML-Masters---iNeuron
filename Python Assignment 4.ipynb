{
 "cells": [
  {
   "cell_type": "code",
   "execution_count": 38,
   "metadata": {},
   "outputs": [
    {
     "name": "stdout",
     "output_type": "stream",
     "text": [
      "Enter the sides of a triangle: \n",
      "3\n",
      "4\n",
      "5\n"
     ]
    },
    {
     "data": {
      "text/plain": [
       "6.0"
      ]
     },
     "execution_count": 38,
     "metadata": {},
     "output_type": "execute_result"
    }
   ],
   "source": [
    "''' 1.1 Write a Python Program(with class concepts) to find the area of the triangle using the below\n",
    "formula.\n",
    "area = (s*(s-a)*(s-b)*(s-c)) ** 0.5\n",
    "Function to take the length of the sides of triangle from user should be defined in the parent\n",
    "class and function to calculate the area should be defined in subclass.'''\n",
    "\n",
    "class Lengths:    \n",
    "    \n",
    "    def __init__(self,a,b,c):\n",
    "        self.a = a\n",
    "        self.b = b\n",
    "        self.c = c\n",
    "        \n",
    "class Area(Lengths):\n",
    "    \n",
    "    def __init__(self,a,b,c):\n",
    "        super().__init__(a,b,c)\n",
    "    \n",
    "    def cal_area(self):\n",
    "        if self.a+self.b>self.c and self.b+self.c>self.a and self.a+self.c>self.b:\n",
    "            s = 0.5*(self.a+self.b+self.c)\n",
    "            area = (s*(s-self.a)*(s-self.b)*(s-self.c))**0.5\n",
    "            return area\n",
    "        else:\n",
    "            return \"Entered cannot be the sides of a triangle\"\n",
    "          \n",
    "\n",
    "print(\"Enter the sides of a triangle: \")\n",
    "x=int(input())\n",
    "y=int(input())\n",
    "z=int(input())\n",
    "\n",
    "area_of_tri = Area(x,y,z)\n",
    "\n",
    "area_of_tri.cal_area()"
   ]
  },
  {
   "cell_type": "code",
   "execution_count": 15,
   "metadata": {},
   "outputs": [
    {
     "name": "stdout",
     "output_type": "stream",
     "text": [
      "Enter the number of words in the input list\n",
      "5\n",
      "Enter the words in the input list\n",
      "Mango\n",
      "Apple\n",
      "Pineapple\n",
      "Goa\n",
      "Sixteen\n",
      "Enter the required length of words in the output 4\n",
      "The required output is: ['Mango', 'Apple', 'Pineapple', 'Sixteen']\n"
     ]
    }
   ],
   "source": [
    "'''1.2 Write a function filter_long_words() that takes a list of words and an integer n and returns\n",
    "the list of words that are longer than n.'''\n",
    "\n",
    "input_list=[]\n",
    "output_list = []\n",
    "\n",
    "def words(input_list,n):\n",
    "    \n",
    "    for element in input_list:\n",
    "        if len(element)>n:\n",
    "            output_list.append(element)\n",
    "    \n",
    "    return output_list\n",
    "\n",
    "print(\"Enter the number of words in the input list\")\n",
    "x = int(input())\n",
    "\n",
    "\n",
    "print(\"Enter the words in the input list\")\n",
    "for i in range (0,x):\n",
    "    input_list.append(str(input()))\n",
    "\n",
    "y=int(input(\"Enter the required length of words in the output \"))\n",
    "\n",
    "print(\"The required output is:\", words(input_list,y))"
   ]
  },
  {
   "cell_type": "code",
   "execution_count": 4,
   "metadata": {},
   "outputs": [
    {
     "name": "stdout",
     "output_type": "stream",
     "text": [
      "Enter the number of elements in the input list\n",
      "3\n",
      "Enter the elements in the input list\n",
      "as\n",
      "asd\n",
      "asdf\n",
      "The length of elements in the entered list: [2, 3, 4]\n"
     ]
    }
   ],
   "source": [
    "''' 2.1 Write a Python program using function concept that maps list of words into a list of integers\n",
    "representing the lengths of the corresponding words.'''\n",
    "\n",
    "output_list = []\n",
    "\n",
    "def length_list(input_list):\n",
    "    for element in input_list:\n",
    "        output_list.append(len(element))\n",
    "    return output_list\n",
    "\n",
    "input_list = []\n",
    "\n",
    "print(\"Enter the number of elements in the input list\")\n",
    "x = int(input())\n",
    "\n",
    "print(\"Enter the elements in the input list\")\n",
    "for i in range (0,x):\n",
    "    input_list.append(str(input()))\n",
    "    \n",
    "#print(\"Entered input_list is\", input_list)\n",
    "\n",
    "print(\"The length of elements in the entered list:\",length_list(input_list))"
   ]
  },
  {
   "cell_type": "code",
   "execution_count": 20,
   "metadata": {},
   "outputs": [
    {
     "name": "stdout",
     "output_type": "stream",
     "text": [
      "Enter a character: a\n"
     ]
    },
    {
     "data": {
      "text/plain": [
       "True"
      ]
     },
     "execution_count": 20,
     "metadata": {},
     "output_type": "execute_result"
    }
   ],
   "source": [
    "''' 2.2 Write a Python function which takes a character (i.e. a string of length 1) and returns True if\n",
    "it is a vowel, False otherwise.'''\n",
    "\n",
    "def isVowel(x):\n",
    "    \n",
    "    if x in ['a','e','i','o','u','A','E','I','O','U']:\n",
    "        return True\n",
    "    else: return False\n",
    "    \n",
    "y = str(input(\"Enter a character: \"))\n",
    "\n",
    "isVowel(y)"
   ]
  }
 ],
 "metadata": {
  "kernelspec": {
   "display_name": "Python 3",
   "language": "python",
   "name": "python3"
  },
  "language_info": {
   "codemirror_mode": {
    "name": "ipython",
    "version": 3
   },
   "file_extension": ".py",
   "mimetype": "text/x-python",
   "name": "python",
   "nbconvert_exporter": "python",
   "pygments_lexer": "ipython3",
   "version": "3.7.6"
  }
 },
 "nbformat": 4,
 "nbformat_minor": 4
}

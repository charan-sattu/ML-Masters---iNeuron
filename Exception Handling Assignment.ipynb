{
 "cells": [
  {
   "cell_type": "code",
   "execution_count": 2,
   "metadata": {},
   "outputs": [
    {
     "name": "stdout",
     "output_type": "stream",
     "text": [
      "Enter a number: k\n",
      "Enter an Integer\n",
      "Enter a number: y\n",
      "Enter an Integer\n",
      "Enter a number: 7.0\n",
      "Enter an Integer\n",
      "Enter a number: 5.0\n",
      "Enter an Integer\n",
      "Enter a number: 0.0\n",
      "Enter an Integer\n",
      "Enter a number: 0\n"
     ]
    },
    {
     "data": {
      "text/plain": [
       "'Division by 0 is not possible'"
      ]
     },
     "execution_count": 2,
     "metadata": {},
     "output_type": "execute_result"
    }
   ],
   "source": [
    "''' 1. Write a function to compute 5/0and use try/except to catch the exceptions'''\n",
    "\n",
    "def divide(a,b=5):\n",
    "    try:\n",
    "        return int(5/a)\n",
    "    except ZeroDivisionError:\n",
    "        return \"Division by 0 is not possible\"\n",
    "    except TypeError:\n",
    "        return \"Entered is not an integer\"\n",
    "    \n",
    "while True:\n",
    "    try:\n",
    "        x = int(input(\"Enter a number: \"))\n",
    "        break\n",
    "    except ValueError:\n",
    "        print(\"Enter an Integer\")\n",
    "        continue\n",
    "divide(x)"
   ]
  },
  {
   "cell_type": "code",
   "execution_count": 3,
   "metadata": {},
   "outputs": [
    {
     "name": "stdout",
     "output_type": "stream",
     "text": [
      "Americans play Baseball.\n",
      "Americans play Cricket.\n",
      "Americans watch Baseball.\n",
      "Americans watch Cricket.\n",
      "Indians play Baseball.\n",
      "Indians play Cricket.\n",
      "Indians watch Baseball.\n",
      "Indians watch Cricket.\n"
     ]
    }
   ],
   "source": [
    "''' 2. Implement a python program to generate all the sentences where subject is in [\"Americans\",\"Indians\"]\n",
    "and verb is in [\"play\",\"watch\"] and the object is in [\"Baseball\",\"Cricket\"]'''\n",
    "\n",
    "\n",
    "subjects = [\"Americans\",\"Indians\"]\n",
    "verbs = [\"play\",\"watch\"]\n",
    "objects = [\"Baseball\",\"Cricket\"]\n",
    "\n",
    "for i in subjects:\n",
    "    for j in verbs:\n",
    "        for k in objects:\n",
    "            print(i+\" \"+j+\" \"+k+\".\")"
   ]
  }
 ],
 "metadata": {
  "kernelspec": {
   "display_name": "Python 3",
   "language": "python",
   "name": "python3"
  },
  "language_info": {
   "codemirror_mode": {
    "name": "ipython",
    "version": 3
   },
   "file_extension": ".py",
   "mimetype": "text/x-python",
   "name": "python",
   "nbconvert_exporter": "python",
   "pygments_lexer": "ipython3",
   "version": "3.7.6"
  }
 },
 "nbformat": 4,
 "nbformat_minor": 4
}
